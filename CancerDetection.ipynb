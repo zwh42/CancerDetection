{
  "nbformat": 4,
  "nbformat_minor": 0,
  "metadata": {
    "kernelspec": {
      "name": "python3",
      "display_name": "Python 3"
    },
    "language_info": {
      "codemirror_mode": {
        "name": "ipython",
        "version": 3
      },
      "file_extension": ".py",
      "mimetype": "text/x-python",
      "name": "python",
      "nbconvert_exporter": "python",
      "pygments_lexer": "ipython3",
      "version": "3.7.5"
    },
    "colab": {
      "name": "CancerDetection.ipynb",
      "provenance": [],
      "toc_visible": true
    },
    "accelerator": "GPU"
  },
  "cells": [
    {
      "cell_type": "markdown",
      "metadata": {
        "id": "Dx1jOzx3oUCg",
        "colab_type": "text"
      },
      "source": [
        "# Breast Cancer Detection using Machine Learning"
      ]
    },
    {
      "cell_type": "markdown",
      "metadata": {
        "id": "uDs3FzQCjuPu",
        "colab_type": "text"
      },
      "source": [
        "## **nickname on biendata.com: Dracarys**\n",
        "## *rank: 17*"
      ]
    },
    {
      "cell_type": "code",
      "metadata": {
        "id": "g-ZW9CtJ956O",
        "colab_type": "code",
        "colab": {}
      },
      "source": [
        "# !pip install tensorflow-gpu"
      ],
      "execution_count": 0,
      "outputs": []
    },
    {
      "cell_type": "markdown",
      "metadata": {
        "id": "0LyhX-NCoUCj",
        "colab_type": "text"
      },
      "source": [
        "\n",
        "\n",
        "\n",
        "##  enviroment and global variables "
      ]
    },
    {
      "cell_type": "code",
      "metadata": {
        "id": "vl6ZgFyDoUCn",
        "colab_type": "code",
        "outputId": "313e58fb-7dea-4283-a9ef-7d56e4f21dbf",
        "colab": {
          "base_uri": "https://localhost:8080/",
          "height": 67
        }
      },
      "source": [
        "import os\n",
        "import glob\n",
        "import numpy as np\n",
        "import pandas as pd\n",
        "import random\n",
        "\n",
        "from collections import Counter\n",
        "from pprint import pprint\n",
        "\n",
        "from sklearn.preprocessing import OneHotEncoder\n",
        "from sklearn.utils import shuffle\n",
        "from sklearn.utils.class_weight import compute_class_weight\n",
        "from sklearn.model_selection import train_test_split\n",
        "\n",
        "import matplotlib.pyplot as plt\n",
        "import cv2\n",
        "\n",
        "import tensorflow as tf\n",
        "from tensorflow.keras.models import Sequential, Model\n",
        "from tensorflow.keras.layers import Input, Dense, Conv2D, Flatten, Dropout, MaxPooling2D, BatchNormalization, concatenate\n",
        "from tensorflow.keras.preprocessing.image import ImageDataGenerator\n",
        "from tensorflow.keras.optimizers import Adam\n",
        "\n",
        "from IPython.core.interactiveshell import InteractiveShell\n",
        "InteractiveShell.ast_node_interactivity = \"all\"\n",
        "\n",
        "print(f\"TensorFlow version: {tf.__version__}\")\n",
        "print(f\"test GPU: {tf.test.gpu_device_name()}\")\n",
        "print(\"Num GPUs Available: \", len(tf.config.experimental.list_physical_devices('GPU')))"
      ],
      "execution_count": 2,
      "outputs": [
        {
          "output_type": "stream",
          "text": [
            "TensorFlow version: 2.1.0\n",
            "test GPU: /device:GPU:0\n",
            "Num GPUs Available:  1\n"
          ],
          "name": "stdout"
        }
      ]
    },
    {
      "cell_type": "code",
      "metadata": {
        "id": "_F1DRcnCG0D1",
        "colab_type": "code",
        "colab": {}
      },
      "source": [
        "%load_ext tensorboard"
      ],
      "execution_count": 0,
      "outputs": []
    },
    {
      "cell_type": "code",
      "metadata": {
        "id": "6lGsWk7xTmiv",
        "colab_type": "code",
        "colab": {}
      },
      "source": [
        "#!cp /content/drive/My\\ Drive/dataset/test.tar.gz ./\n",
        "#!cp /content/drive/My\\ Drive/dataset/train.tar.gz ./\n",
        "#!tar -zxvf train.tar.gz\n",
        "#!tar -zxvf test.tar.gz"
      ],
      "execution_count": 0,
      "outputs": []
    },
    {
      "cell_type": "markdown",
      "metadata": {
        "id": "YgiWWK-R-hmq",
        "colab_type": "text"
      },
      "source": [
        "* if certain directory below does not exist, please create manually."
      ]
    },
    {
      "cell_type": "code",
      "metadata": {
        "id": "pdwqEhaloUCq",
        "colab_type": "code",
        "colab": {}
      },
      "source": [
        "TRAIN_CSV = \"./train/feats.csv\"\n",
        "TRAIN_IMG_DIR = \"./train/images\"\n",
        "\n",
        "TEST_CSV = \"./test/feats.csv\"\n",
        "TEST_IMG_DIR = \"./test/images\"\n",
        "\n",
        "\n",
        "CLEAN_DATA_FILE = \"./cleaned_data.csv\"\n",
        "\n",
        "MODEL_DIR = \"./model\"\n",
        "RESULT_FILE = \"./submission.csv\"\n",
        "\n",
        "LOG_DIR = \"./log\"\n",
        "\n",
        "dir_list = [MODEL_DIR, LOG_DIR] \n",
        "for d in dir_list: \n",
        "    if not os.path.exists(d):\n",
        "        os.makedirs(d)\n",
        "        print(f\"directory: {d} is created.\")\n",
        "\n",
        "\n",
        "#image size for CNN input\n",
        "IMG_HEIGHT = 320\n",
        "IMG_WIDTH = 320"
      ],
      "execution_count": 0,
      "outputs": []
    },
    {
      "cell_type": "markdown",
      "metadata": {
        "id": "J2UWziFzoUCs",
        "colab_type": "text"
      },
      "source": [
        "## data anaylysis\n",
        "to start with, we need to get some basic understand of the data. In the training data set, we can find a few different colums for each record.\n",
        "\n",
        "***id***: string, which related to one or more ultrasound images.\n",
        "\n",
        "***age***: int Age of the patient\n",
        "\n",
        "***HER2***: int Scale (0-3) of how strongly HER2 (marker for genetic predisposition\n",
        "for breast cancer) is detected\n",
        "\n",
        "***P53***: bool Whether P53 (marker for genetic predisposition for cancer) is positive \n",
        "\n",
        "***molecular subtype***: int Molecular subtype of breast cancer, there are four types of\n",
        "molecular subtypes in the dataset (1: Luminal A, 2: Luminal\n",
        "B, 3: HER2-Enriched, 4:Triple Negative)\n",
        "\n",
        "In this study, ***molecular subtype*** is the preidction target/label. The goal is to create a machine learning model to utilze the record of  ***id(the ultrasound images)***, ***age***, ***pP53*** to predict the ***molecular subtype***. This problem can be categorized as a multi-class classification problem.\n",
        "\n",
        "\n",
        "It can be found that the sample distribution of ***molecular subtype*** is not balanced. This may cause bias in machine learning training and needs to be addressed."
      ]
    },
    {
      "cell_type": "code",
      "metadata": {
        "id": "Yr6OYRHqoUCt",
        "colab_type": "code",
        "outputId": "b133cb9a-8077-4511-fa78-1b7847a686d7",
        "colab": {
          "base_uri": "https://localhost:8080/",
          "height": 1000
        }
      },
      "source": [
        "train_df = pd.read_csv(TRAIN_CSV)\n",
        "print(\"training data overview\")\n",
        "train_df.head()\n",
        "print(f\"record count: {train_df.shape[0]}\\n\")\n",
        "train_df.describe()\n",
        "train_df.hist(\"age\", grid=True)\n",
        "train_df.hist(\"HER2\", bins = train_df[\"HER2\"].nunique(), grid=False)\n",
        "train_df.hist(\"molecular_subtype\", bins = train_df[\"molecular_subtype\"].nunique(), grid=False)"
      ],
      "execution_count": 9,
      "outputs": [
        {
          "output_type": "stream",
          "text": [
            "training data overview\n"
          ],
          "name": "stdout"
        },
        {
          "output_type": "execute_result",
          "data": {
            "text/html": [
              "<div>\n",
              "<style scoped>\n",
              "    .dataframe tbody tr th:only-of-type {\n",
              "        vertical-align: middle;\n",
              "    }\n",
              "\n",
              "    .dataframe tbody tr th {\n",
              "        vertical-align: top;\n",
              "    }\n",
              "\n",
              "    .dataframe thead th {\n",
              "        text-align: right;\n",
              "    }\n",
              "</style>\n",
              "<table border=\"1\" class=\"dataframe\">\n",
              "  <thead>\n",
              "    <tr style=\"text-align: right;\">\n",
              "      <th></th>\n",
              "      <th>id</th>\n",
              "      <th>age</th>\n",
              "      <th>HER2</th>\n",
              "      <th>P53</th>\n",
              "      <th>molecular_subtype</th>\n",
              "    </tr>\n",
              "  </thead>\n",
              "  <tbody>\n",
              "    <tr>\n",
              "      <th>0</th>\n",
              "      <td>8a1af6f74cafc720511888998f2f361767c77965a07464...</td>\n",
              "      <td>48</td>\n",
              "      <td>3</td>\n",
              "      <td>True</td>\n",
              "      <td>3</td>\n",
              "    </tr>\n",
              "    <tr>\n",
              "      <th>1</th>\n",
              "      <td>b18adad8c39bb458f208581fe40e9be7b04f2b49be04b0...</td>\n",
              "      <td>54</td>\n",
              "      <td>3</td>\n",
              "      <td>False</td>\n",
              "      <td>2</td>\n",
              "    </tr>\n",
              "    <tr>\n",
              "      <th>2</th>\n",
              "      <td>8b9af020d0e621168fd0f3913f2cd74e8bb5ea85f61ee0...</td>\n",
              "      <td>55</td>\n",
              "      <td>2</td>\n",
              "      <td>True</td>\n",
              "      <td>3</td>\n",
              "    </tr>\n",
              "    <tr>\n",
              "      <th>3</th>\n",
              "      <td>1a0e54f07794fbb95a0fd7f0b4ef6f79ef1a9c83dbaa05...</td>\n",
              "      <td>66</td>\n",
              "      <td>0</td>\n",
              "      <td>False</td>\n",
              "      <td>4</td>\n",
              "    </tr>\n",
              "    <tr>\n",
              "      <th>4</th>\n",
              "      <td>2805706a656b013743d84357d5ffa44536e19d18f0509f...</td>\n",
              "      <td>31</td>\n",
              "      <td>0</td>\n",
              "      <td>False</td>\n",
              "      <td>1</td>\n",
              "    </tr>\n",
              "  </tbody>\n",
              "</table>\n",
              "</div>"
            ],
            "text/plain": [
              "                                                  id  ...  molecular_subtype\n",
              "0  8a1af6f74cafc720511888998f2f361767c77965a07464...  ...                  3\n",
              "1  b18adad8c39bb458f208581fe40e9be7b04f2b49be04b0...  ...                  2\n",
              "2  8b9af020d0e621168fd0f3913f2cd74e8bb5ea85f61ee0...  ...                  3\n",
              "3  1a0e54f07794fbb95a0fd7f0b4ef6f79ef1a9c83dbaa05...  ...                  4\n",
              "4  2805706a656b013743d84357d5ffa44536e19d18f0509f...  ...                  1\n",
              "\n",
              "[5 rows x 5 columns]"
            ]
          },
          "metadata": {
            "tags": []
          },
          "execution_count": 9
        },
        {
          "output_type": "stream",
          "text": [
            "record count: 200\n",
            "\n"
          ],
          "name": "stdout"
        },
        {
          "output_type": "execute_result",
          "data": {
            "text/html": [
              "<div>\n",
              "<style scoped>\n",
              "    .dataframe tbody tr th:only-of-type {\n",
              "        vertical-align: middle;\n",
              "    }\n",
              "\n",
              "    .dataframe tbody tr th {\n",
              "        vertical-align: top;\n",
              "    }\n",
              "\n",
              "    .dataframe thead th {\n",
              "        text-align: right;\n",
              "    }\n",
              "</style>\n",
              "<table border=\"1\" class=\"dataframe\">\n",
              "  <thead>\n",
              "    <tr style=\"text-align: right;\">\n",
              "      <th></th>\n",
              "      <th>age</th>\n",
              "      <th>HER2</th>\n",
              "      <th>molecular_subtype</th>\n",
              "    </tr>\n",
              "  </thead>\n",
              "  <tbody>\n",
              "    <tr>\n",
              "      <th>count</th>\n",
              "      <td>200.000000</td>\n",
              "      <td>200.000000</td>\n",
              "      <td>200.000000</td>\n",
              "    </tr>\n",
              "    <tr>\n",
              "      <th>mean</th>\n",
              "      <td>53.275000</td>\n",
              "      <td>1.190000</td>\n",
              "      <td>1.985000</td>\n",
              "    </tr>\n",
              "    <tr>\n",
              "      <th>std</th>\n",
              "      <td>11.852077</td>\n",
              "      <td>1.157844</td>\n",
              "      <td>0.823508</td>\n",
              "    </tr>\n",
              "    <tr>\n",
              "      <th>min</th>\n",
              "      <td>29.000000</td>\n",
              "      <td>0.000000</td>\n",
              "      <td>1.000000</td>\n",
              "    </tr>\n",
              "    <tr>\n",
              "      <th>25%</th>\n",
              "      <td>45.000000</td>\n",
              "      <td>0.000000</td>\n",
              "      <td>1.000000</td>\n",
              "    </tr>\n",
              "    <tr>\n",
              "      <th>50%</th>\n",
              "      <td>51.500000</td>\n",
              "      <td>1.000000</td>\n",
              "      <td>2.000000</td>\n",
              "    </tr>\n",
              "    <tr>\n",
              "      <th>75%</th>\n",
              "      <td>61.000000</td>\n",
              "      <td>2.000000</td>\n",
              "      <td>2.000000</td>\n",
              "    </tr>\n",
              "    <tr>\n",
              "      <th>max</th>\n",
              "      <td>83.000000</td>\n",
              "      <td>3.000000</td>\n",
              "      <td>4.000000</td>\n",
              "    </tr>\n",
              "  </tbody>\n",
              "</table>\n",
              "</div>"
            ],
            "text/plain": [
              "              age        HER2  molecular_subtype\n",
              "count  200.000000  200.000000         200.000000\n",
              "mean    53.275000    1.190000           1.985000\n",
              "std     11.852077    1.157844           0.823508\n",
              "min     29.000000    0.000000           1.000000\n",
              "25%     45.000000    0.000000           1.000000\n",
              "50%     51.500000    1.000000           2.000000\n",
              "75%     61.000000    2.000000           2.000000\n",
              "max     83.000000    3.000000           4.000000"
            ]
          },
          "metadata": {
            "tags": []
          },
          "execution_count": 9
        },
        {
          "output_type": "execute_result",
          "data": {
            "text/plain": [
              "array([[<matplotlib.axes._subplots.AxesSubplot object at 0x7fb742901b00>]],\n",
              "      dtype=object)"
            ]
          },
          "metadata": {
            "tags": []
          },
          "execution_count": 9
        },
        {
          "output_type": "execute_result",
          "data": {
            "text/plain": [
              "array([[<matplotlib.axes._subplots.AxesSubplot object at 0x7fb7428098d0>]],\n",
              "      dtype=object)"
            ]
          },
          "metadata": {
            "tags": []
          },
          "execution_count": 9
        },
        {
          "output_type": "execute_result",
          "data": {
            "text/plain": [
              "array([[<matplotlib.axes._subplots.AxesSubplot object at 0x7fb7427ccb00>]],\n",
              "      dtype=object)"
            ]
          },
          "metadata": {
            "tags": []
          },
          "execution_count": 9
        },
        {
          "output_type": "display_data",
          "data": {
            "image/png": "[encoded data removed]",
            "text/plain": [
              "<Figure size 432x288 with 1 Axes>"
            ]
          },
          "metadata": {
            "tags": []
          }
        },
        {
          "output_type": "display_data",
          "data": {
            "image/png": "[encoded data removed]",
            "text/plain": [
              "<Figure size 432x288 with 1 Axes>"
            ]
          },
          "metadata": {
            "tags": []
          }
        },
        {
          "output_type": "display_data",
          "data": {
            "image/png": "[encoded data removed]",
            "text/plain": [
              "<Figure size 432x288 with 1 Axes>"
            ]
          },
          "metadata": {
            "tags": []
          }
        }
      ]
    },
    {
      "cell_type": "code",
      "metadata": {
        "id": "ZHmyKqbToUC0",
        "colab_type": "code",
        "outputId": "d8af39f4-df6b-45c6-85dd-b58ed371dbfa",
        "colab": {
          "base_uri": "https://localhost:8080/",
          "height": 462
        }
      },
      "source": [
        "test_df = pd.read_csv(TEST_CSV)\n",
        "test_df.head()\n",
        "test_df.describe()"
      ],
      "execution_count": 10,
      "outputs": [
        {
          "output_type": "execute_result",
          "data": {
            "text/html": [
              "<div>\n",
              "<style scoped>\n",
              "    .dataframe tbody tr th:only-of-type {\n",
              "        vertical-align: middle;\n",
              "    }\n",
              "\n",
              "    .dataframe tbody tr th {\n",
              "        vertical-align: top;\n",
              "    }\n",
              "\n",
              "    .dataframe thead th {\n",
              "        text-align: right;\n",
              "    }\n",
              "</style>\n",
              "<table border=\"1\" class=\"dataframe\">\n",
              "  <thead>\n",
              "    <tr style=\"text-align: right;\">\n",
              "      <th></th>\n",
              "      <th>id</th>\n",
              "      <th>age</th>\n",
              "      <th>HER2</th>\n",
              "      <th>P53</th>\n",
              "    </tr>\n",
              "  </thead>\n",
              "  <tbody>\n",
              "    <tr>\n",
              "      <th>0</th>\n",
              "      <td>d6b47f0c2ccbbd7923e37dc434ab25445df6bc060d5338...</td>\n",
              "      <td>57</td>\n",
              "      <td>0</td>\n",
              "      <td>False</td>\n",
              "    </tr>\n",
              "    <tr>\n",
              "      <th>1</th>\n",
              "      <td>2e9d400ee8450c30d19c43a20e9da770774d3169da4574...</td>\n",
              "      <td>36</td>\n",
              "      <td>0</td>\n",
              "      <td>False</td>\n",
              "    </tr>\n",
              "    <tr>\n",
              "      <th>2</th>\n",
              "      <td>72f92da6ca6d521221baee367b5c76fcbfe61edc00c0bc...</td>\n",
              "      <td>81</td>\n",
              "      <td>0</td>\n",
              "      <td>False</td>\n",
              "    </tr>\n",
              "    <tr>\n",
              "      <th>3</th>\n",
              "      <td>ca7e160144dd6f459e2b18c48a33d4a53d09de5d7c2557...</td>\n",
              "      <td>82</td>\n",
              "      <td>0</td>\n",
              "      <td>False</td>\n",
              "    </tr>\n",
              "    <tr>\n",
              "      <th>4</th>\n",
              "      <td>d65889918d2b9073e7601c2ba67c3a9d26f60612f14e93...</td>\n",
              "      <td>59</td>\n",
              "      <td>2</td>\n",
              "      <td>False</td>\n",
              "    </tr>\n",
              "  </tbody>\n",
              "</table>\n",
              "</div>"
            ],
            "text/plain": [
              "                                                  id  age  HER2    P53\n",
              "0  d6b47f0c2ccbbd7923e37dc434ab25445df6bc060d5338...   57     0  False\n",
              "1  2e9d400ee8450c30d19c43a20e9da770774d3169da4574...   36     0  False\n",
              "2  72f92da6ca6d521221baee367b5c76fcbfe61edc00c0bc...   81     0  False\n",
              "3  ca7e160144dd6f459e2b18c48a33d4a53d09de5d7c2557...   82     0  False\n",
              "4  d65889918d2b9073e7601c2ba67c3a9d26f60612f14e93...   59     2  False"
            ]
          },
          "metadata": {
            "tags": []
          },
          "execution_count": 10
        },
        {
          "output_type": "execute_result",
          "data": {
            "text/html": [
              "<div>\n",
              "<style scoped>\n",
              "    .dataframe tbody tr th:only-of-type {\n",
              "        vertical-align: middle;\n",
              "    }\n",
              "\n",
              "    .dataframe tbody tr th {\n",
              "        vertical-align: top;\n",
              "    }\n",
              "\n",
              "    .dataframe thead th {\n",
              "        text-align: right;\n",
              "    }\n",
              "</style>\n",
              "<table border=\"1\" class=\"dataframe\">\n",
              "  <thead>\n",
              "    <tr style=\"text-align: right;\">\n",
              "      <th></th>\n",
              "      <th>age</th>\n",
              "      <th>HER2</th>\n",
              "    </tr>\n",
              "  </thead>\n",
              "  <tbody>\n",
              "    <tr>\n",
              "      <th>count</th>\n",
              "      <td>87.000000</td>\n",
              "      <td>87.000000</td>\n",
              "    </tr>\n",
              "    <tr>\n",
              "      <th>mean</th>\n",
              "      <td>52.333333</td>\n",
              "      <td>1.160920</td>\n",
              "    </tr>\n",
              "    <tr>\n",
              "      <th>std</th>\n",
              "      <td>12.508292</td>\n",
              "      <td>1.160128</td>\n",
              "    </tr>\n",
              "    <tr>\n",
              "      <th>min</th>\n",
              "      <td>19.000000</td>\n",
              "      <td>0.000000</td>\n",
              "    </tr>\n",
              "    <tr>\n",
              "      <th>25%</th>\n",
              "      <td>45.000000</td>\n",
              "      <td>0.000000</td>\n",
              "    </tr>\n",
              "    <tr>\n",
              "      <th>50%</th>\n",
              "      <td>52.000000</td>\n",
              "      <td>1.000000</td>\n",
              "    </tr>\n",
              "    <tr>\n",
              "      <th>75%</th>\n",
              "      <td>59.500000</td>\n",
              "      <td>2.000000</td>\n",
              "    </tr>\n",
              "    <tr>\n",
              "      <th>max</th>\n",
              "      <td>82.000000</td>\n",
              "      <td>3.000000</td>\n",
              "    </tr>\n",
              "  </tbody>\n",
              "</table>\n",
              "</div>"
            ],
            "text/plain": [
              "             age       HER2\n",
              "count  87.000000  87.000000\n",
              "mean   52.333333   1.160920\n",
              "std    12.508292   1.160128\n",
              "min    19.000000   0.000000\n",
              "25%    45.000000   0.000000\n",
              "50%    52.000000   1.000000\n",
              "75%    59.500000   2.000000\n",
              "max    82.000000   3.000000"
            ]
          },
          "metadata": {
            "tags": []
          },
          "execution_count": 10
        }
      ]
    },
    {
      "cell_type": "markdown",
      "metadata": {
        "id": "tD083V14oUC2",
        "colab_type": "text"
      },
      "source": [
        "## data preprocessing\n",
        "\n",
        "In this study we will focus on using the ultrasound images with deep learning to do the prediction. Since this technique has been proved to be powerful [1](https://arxiv.org/abs/1606.05718) [2](https://ieeexplore.ieee.org/abstract/document/7405343/) and need relatively small domain knowledge. "
      ]
    },
    {
      "cell_type": "markdown",
      "metadata": {
        "id": "n5i0rDtgoUC3",
        "colab_type": "text"
      },
      "source": [
        "In the record, each **id** may have more than one image. Thus firstly it is necessary to create the one to one mapping between image and label. The **age** is normalized by dividing 100, and the **\"P53\"** is converted to binary integer value 0, 1 for future processing."
      ]
    },
    {
      "cell_type": "code",
      "metadata": {
        "id": "SfH_U1jxoUC4",
        "colab_type": "code",
        "outputId": "5595f850-451a-42b5-a533-6e2108c47933",
        "colab": {
          "base_uri": "https://localhost:8080/",
          "height": 34
        }
      },
      "source": [
        "f = open(CLEAN_DATA_FILE, \"w\")\n",
        "\n",
        "cleaned_data = []\n",
        "for idx, row in train_df.iterrows():\n",
        "    normalized_age = row[\"age\"]/100.0\n",
        "    if row[\"P53\"] is True:\n",
        "        P53_value = 1.0\n",
        "    else:\n",
        "        P53_value = 0.0\n",
        "    \n",
        "    image_path_list = glob.glob(os.path.join(TRAIN_IMG_DIR, row[\"id\"], \"*.*\"))\n",
        "    for image_path in image_path_list:\n",
        "        line = f'{image_path}, {normalized_age}, {row[\"HER2\"]}, {P53_value}, {row[\"molecular_subtype\"]}\\n'\n",
        "        cleaned_data.append(line)\n",
        "        #_ = f.write(f'{image_path}, {row[\"molecular_subtype\"]}\\n')\n",
        "\n",
        "\n",
        "random.shuffle(cleaned_data)\n",
        "f.writelines(cleaned_data)\n",
        "f.close()\n",
        "print(f\" total mapping count {len(cleaned_data)} stored in {CLEAN_DATA_FILE} with format: 'image path, label' in each line.\")\n",
        "\n",
        "#with open(CLEAN_DATA_FILE, 'r') as f:\n",
        "#    print(f.read())"
      ],
      "execution_count": 12,
      "outputs": [
        {
          "output_type": "stream",
          "text": [
            " total mapping count 925 stored in ./cleaned_data.csv with format: 'image path, label' in each line.\n"
          ],
          "name": "stdout"
        }
      ]
    },
    {
      "cell_type": "markdown",
      "metadata": {
        "id": "fLtgCrrjoUDA",
        "colab_type": "text"
      },
      "source": [
        "After last step, we can found total **925** image to label relation mappings are created. We also need to re-do the statistics on different labels as each **id** may have different count of images.\n",
        "\n",
        "For a typical multi class classification problem, one-hot encoding is a common practice the convert the categorical label in to a one-hot fashion, which will be used as input for supervised learning. So as to the ***HER2*** and **P53** value."
      ]
    },
    {
      "cell_type": "code",
      "metadata": {
        "id": "ufxzV65ioUDB",
        "colab_type": "code",
        "outputId": "46937280-c1db-4fa9-f5ec-40880e00a2f2",
        "colab": {
          "base_uri": "https://localhost:8080/",
          "height": 319
        }
      },
      "source": [
        "train_image_path = []\n",
        "train_raw_label = []\n",
        "\n",
        "her2_value_list = []\n",
        "p53_value_list = []\n",
        "normalized_age_list = []\n",
        "\n",
        "with open(CLEAN_DATA_FILE, \"r\") as f:\n",
        "    lines = f.readlines()\n",
        "    for line in lines:\n",
        "        image_path, normalized_age, her2_value, p53_vale, label = line.split(\",\")\n",
        "        label = label.strip() \n",
        "        train_image_path.append(image_path)\n",
        "        train_raw_label.append(label)\n",
        "\n",
        "        normalized_age_list.append(normalized_age.strip())\n",
        "        her2_value_list.append(her2_value.strip())\n",
        "        p53_value_list.append(p53_vale.strip())\n",
        "\n",
        "print(\"different label count:\")\n",
        "print(sorted(Counter(list(train_raw_label)).items()))        \n",
        "\n",
        "train_image_path = np.asarray(train_image_path)\n",
        "train_raw_label = np.asarray(train_raw_label).reshape(-1, 1)\n",
        "train_image_path, train_raw_label = shuffle(train_image_path, train_raw_label)\n",
        "\n",
        "label_encoder = OneHotEncoder(sparse=False)\n",
        "train_onehot_label = label_encoder.fit_transform(train_raw_label)\n",
        "print(\"\\nlabel none-hot encoding:\")\n",
        "print(np.unique(train_onehot_label, axis = 0))\n",
        "#print(f\"{train_image_path.shape}, {train_onehot_label.shape}\")\n",
        "\n",
        "\n",
        "her2_value_list = np.asarray(her2_value_list).reshape(-1, 1)\n",
        "her2_encoder = OneHotEncoder(sparse=False)\n",
        "her2_onehot = her2_encoder.fit_transform(her2_value_list)\n",
        "print(\"\\nHER2 one-hot encoding:\")\n",
        "print(np.unique(her2_onehot, axis = 0))\n",
        "\n",
        "p53_value_list = np.asarray(p53_value_list).reshape(-1, 1)\n",
        "p53_encoder = OneHotEncoder(sparse=False)\n",
        "p53_onehot = p53_encoder.fit_transform(p53_value_list)\n",
        "print(\"\\nP53 one-hot encoding:\")\n",
        "print(np.unique(p53_onehot, axis = 0))\n",
        "\n"
      ],
      "execution_count": 15,
      "outputs": [
        {
          "output_type": "stream",
          "text": [
            "different label count:\n",
            "[('1', 267), ('2', 472), ('3', 136), ('4', 50)]\n",
            "\n",
            "label none-hot encoding:\n",
            "[[0. 0. 0. 1.]\n",
            " [0. 0. 1. 0.]\n",
            " [0. 1. 0. 0.]\n",
            " [1. 0. 0. 0.]]\n",
            "\n",
            "HER2 one-hot encoding:\n",
            "[[0. 0. 0. 1.]\n",
            " [0. 0. 1. 0.]\n",
            " [0. 1. 0. 0.]\n",
            " [1. 0. 0. 0.]]\n",
            "\n",
            "P53 one-hot encoding:\n",
            "[[0. 1.]\n",
            " [1. 0.]]\n"
          ],
          "name": "stdout"
        }
      ]
    },
    {
      "cell_type": "markdown",
      "metadata": {
        "id": "fg9Is1IAyWEP",
        "colab_type": "text"
      },
      "source": [
        "We can found that the count of each label is not balanced by a large ratio. \n",
        "\n",
        "By examining the images, we can find that the images have differnet format and shapes. These images need to be preprocessed before feed into the deep learning model. \n",
        "\n",
        "In the image preprocessing function **preprocess_image()**, the images will be resized to the same shape, and each pixel value is normalized to [0, 1], which is also required by the deep learning model training process. We also need to create the train/test data split for validation."
      ]
    },
    {
      "cell_type": "code",
      "metadata": {
        "id": "1AT_BBdloUDF",
        "colab_type": "code",
        "outputId": "12f84d64-7076-4939-a1b4-fdcae43d498c",
        "colab": {
          "base_uri": "https://localhost:8080/",
          "height": 50
        }
      },
      "source": [
        "def preprocess_image(image_path):\n",
        "    \n",
        "    image = cv2.imread(image_path, cv2.IMREAD_GRAYSCALE)\n",
        "    image = cv2.resize(image, (IMG_HEIGHT, IMG_WIDTH))\n",
        "    image = cv2.cvtColor(image, cv2.COLOR_GRAY2RGB)\n",
        "    image = cv2.normalize(image, None, alpha=0, beta=1, norm_type=cv2.NORM_MINMAX, dtype=cv2.CV_32F)\n",
        "    image = np.asarray(image)\n",
        "\n",
        "    return image\n",
        "\n",
        "\n",
        "train_X = []\n",
        "for image_path in train_image_path:\n",
        "    train_X.append(preprocess_image(image_path))\n",
        "    \n",
        "train_X = np.asarray(train_X)\n",
        "train_Y = train_onehot_label\n",
        "\n",
        "train_X, test_X, train_Y, test_Y = train_test_split(train_X, train_Y, test_size=0.15, random_state=42)\n",
        "print(f\"\\ntrain X shape: {train_X.shape}, train Y shape: {train_Y.shape}, test X shape:{test_X.shape}, test Y shape: {test_Y.shape}\")\n"
      ],
      "execution_count": 20,
      "outputs": [
        {
          "output_type": "stream",
          "text": [
            "\n",
            "train X shape: (786, 320, 320, 3), train Y shape: (786, 4), test X shape:(139, 320, 320, 3), test Y shape: (139, 4)\n"
          ],
          "name": "stdout"
        }
      ]
    },
    {
      "cell_type": "markdown",
      "metadata": {
        "id": "eQ79yHQ-1hmZ",
        "colab_type": "text"
      },
      "source": [
        "By now we have prepared the training data: The preprocessed input image(**train_X**), and the one-hot encoding label (**train_Y**)."
      ]
    },
    {
      "cell_type": "markdown",
      "metadata": {
        "id": "EyKL2KuwoUDH",
        "colab_type": "text"
      },
      "source": [
        "## build machine learning model \n",
        " The convolutional neural network (CNN) model is suitable for this problem. Here we create two types of model.\n",
        "\n",
        " + Simple CNN model, train from scratch\n",
        " + transfer learning model, which is proved to be useful[3](https://www.spiedigitallibrary.org/journals/Journal-of-Medical-Imaging/volume-3/issue-3/034501/Digital-mammographic-tumor-classification-using-transfer-learning-from-deep-convolutional/10.1117/1.JMI.3.3.034501.short?SSO=1) "
      ]
    },
    {
      "cell_type": "markdown",
      "metadata": {
        "id": "FG5bvs8W3GT4",
        "colab_type": "text"
      },
      "source": [
        "### 1. simple CNN model"
      ]
    },
    {
      "cell_type": "code",
      "metadata": {
        "id": "V5VqOeEyoUDI",
        "colab_type": "code",
        "colab": {}
      },
      "source": [
        "def build_model():\n",
        "    model = Sequential()\n",
        "    model.add(Conv2D(16, 3, padding='valid', activation='relu', input_shape=(IMG_HEIGHT, IMG_WIDTH ,3)))\n",
        "    model.add(MaxPooling2D())\n",
        "\n",
        "    model.add(Conv2D(32, 3, padding='valid', activation='relu'))\n",
        "    model.add(MaxPooling2D())\n",
        "    model.add(Conv2D(64, 3, padding='valid', activation='relu'))\n",
        "    model.add(MaxPooling2D())\n",
        "    model.add(Conv2D(128, 3, padding='valid', activation='relu'))\n",
        "    model.add(MaxPooling2D())\n",
        "\n",
        "    model.add(Flatten())\n",
        "    model.add(Dense(128, activation='relu'))\n",
        "    model.add(BatchNormalization())\n",
        "    model.add(Dense(64, activation='relu'))\n",
        "    model.add(BatchNormalization())\n",
        "    model.add(Dense(32, activation='relu'))\n",
        "    model.add(BatchNormalization())\n",
        "    model.add(Dense(4, activation='softmax'))\n",
        "    \n",
        "    \n",
        "    model.summary()\n",
        "    return model\n",
        "\n"
      ],
      "execution_count": 0,
      "outputs": []
    },
    {
      "cell_type": "markdown",
      "metadata": {
        "id": "_bnC8Zla3LSU",
        "colab_type": "text"
      },
      "source": [
        "### 2. transfer learning model"
      ]
    },
    {
      "cell_type": "code",
      "metadata": {
        "id": "BwEDG0MkoUDK",
        "colab_type": "code",
        "colab": {}
      },
      "source": [
        "def build_transfer_learning_model(base_model):\n",
        "    \n",
        "    base_model.trainable = False\n",
        "    \n",
        "    model = Sequential()\n",
        "    model.add(base_model)\n",
        "    model.add(Flatten())\n",
        "    \n",
        "    #model.add(Dense(128, activation = \"relu\"))\n",
        "    #model.add(BatchNormalization())\n",
        "    #model.add(Dropout(0.5))\n",
        "    #model.add(Dense(64, activation = \"relu\"))\n",
        "    #model.add(BatchNormalization())\n",
        "    #model.add(Dropout(0.5))\n",
        "    model.add(Dense(32, activation = \"relu\"))\n",
        "    model.add(BatchNormalization())\n",
        "    model.add(Dense(4, activation='softmax'))\n",
        "    \n",
        "    model.summary()\n",
        "    return model"
      ],
      "execution_count": 0,
      "outputs": []
    },
    {
      "cell_type": "markdown",
      "metadata": {
        "id": "EUepPkjE3nk8",
        "colab_type": "text"
      },
      "source": [
        "## model training\n",
        "\n",
        "Currently there're less than 1000 images for training, which may not be enough and proper argumentation is need. Here we assume that certrain rotation, shift, flip and other operation on the image didn't change the label it belongs. Thus we utilize a ImageDataGenerator() to do the job. "
      ]
    },
    {
      "cell_type": "code",
      "metadata": {
        "id": "gnIA-L-doUDN",
        "colab_type": "code",
        "colab": {}
      },
      "source": [
        "datagen = ImageDataGenerator(\n",
        "    featurewise_center=False,\n",
        "    featurewise_std_normalization=False,\n",
        "    rotation_range=90,\n",
        "    width_shift_range=0.2,\n",
        "    height_shift_range=0.2,\n",
        "    horizontal_flip=True)\n",
        "\n",
        "datagen.fit(train_X)\n"
      ],
      "execution_count": 0,
      "outputs": []
    },
    {
      "cell_type": "markdown",
      "metadata": {
        "id": "j7AQigRq7CSl",
        "colab_type": "text"
      },
      "source": [
        "#### misc settings for model training"
      ]
    },
    {
      "cell_type": "code",
      "metadata": {
        "id": "UiHBpjxA-NnE",
        "colab_type": "code",
        "colab": {}
      },
      "source": [
        "tensorboard_callback = tf.keras.callbacks.TensorBoard(LOGDIR, histogram_freq=1)"
      ],
      "execution_count": 0,
      "outputs": []
    },
    {
      "cell_type": "markdown",
      "metadata": {
        "id": "BlCDrG38oUDS",
        "colab_type": "text"
      },
      "source": [
        "### simple CNN training\n",
        "\n",
        "As a multi-class classfication problem, categorical crossentropy loss function is a common choice.\n",
        " \n",
        "In the model training, the imbalanced label(class) distribution is handeling by giving differnet class weight. Class with smaller count will be given higher weight."
      ]
    },
    {
      "cell_type": "code",
      "metadata": {
        "id": "qgOjDSILoUDS",
        "colab_type": "code",
        "outputId": "575e20e5-2a5a-47d8-8ebc-b07eba165183",
        "colab": {
          "base_uri": "https://localhost:8080/",
          "height": 1000
        }
      },
      "source": [
        "model =  build_model() \n",
        "\n",
        "optimizer = Adam(\n",
        "    learning_rate=0.001, epsilon=1e-07, amsgrad=False,)\n",
        "\n",
        "model.compile(optimizer=optimizer,\n",
        "              loss=tf.keras.losses.CategoricalCrossentropy(from_logits=True),\n",
        "              metrics=['accuracy'])\n",
        "\n",
        "\n",
        "y_integers = np.argmax(train_Y, axis=1)\n",
        "class_weights = compute_class_weight('balanced', np.unique(y_integers), y_integers)\n",
        "d_class_weights = dict(enumerate(class_weights))\n",
        "\n",
        "print(f\"class weight: {d_class_weights}\")\n",
        "\n",
        "\n",
        "history = model.fit(datagen.flow(train_X, train_Y, batch_size = 32),  \n",
        "                    epochs = 20, shuffle = True, \n",
        "                    class_weight = d_class_weights,\n",
        "                    callbacks = [tensorboard_callback], verbose = 1,\n",
        "                    validation_data = (test_X, test_Y)\n",
        "                    )\n",
        "                   \n",
        "\n",
        "model_file = os.path.join(MODEL_DIR, \"simple_cnn_model.h5\")\n",
        "model.save(model_file)\n",
        "print(f\"model: {model_file} saved.\")"
      ],
      "execution_count": 27,
      "outputs": [
        {
          "output_type": "stream",
          "text": [
            "Model: \"sequential_1\"\n",
            "_________________________________________________________________\n",
            "Layer (type)                 Output Shape              Param #   \n",
            "=================================================================\n",
            "conv2d_4 (Conv2D)            (None, 318, 318, 16)      448       \n",
            "_________________________________________________________________\n",
            "max_pooling2d_4 (MaxPooling2 (None, 159, 159, 16)      0         \n",
            "_________________________________________________________________\n",
            "conv2d_5 (Conv2D)            (None, 157, 157, 32)      4640      \n",
            "_________________________________________________________________\n",
            "max_pooling2d_5 (MaxPooling2 (None, 78, 78, 32)        0         \n",
            "_________________________________________________________________\n",
            "conv2d_6 (Conv2D)            (None, 76, 76, 64)        18496     \n",
            "_________________________________________________________________\n",
            "max_pooling2d_6 (MaxPooling2 (None, 38, 38, 64)        0         \n",
            "_________________________________________________________________\n",
            "conv2d_7 (Conv2D)            (None, 36, 36, 128)       73856     \n",
            "_________________________________________________________________\n",
            "max_pooling2d_7 (MaxPooling2 (None, 18, 18, 128)       0         \n",
            "_________________________________________________________________\n",
            "flatten_1 (Flatten)          (None, 41472)             0         \n",
            "_________________________________________________________________\n",
            "dense_4 (Dense)              (None, 128)               5308544   \n",
            "_________________________________________________________________\n",
            "batch_normalization_3 (Batch (None, 128)               512       \n",
            "_________________________________________________________________\n",
            "dense_5 (Dense)              (None, 64)                8256      \n",
            "_________________________________________________________________\n",
            "batch_normalization_4 (Batch (None, 64)                256       \n",
            "_________________________________________________________________\n",
            "dense_6 (Dense)              (None, 32)                2080      \n",
            "_________________________________________________________________\n",
            "batch_normalization_5 (Batch (None, 32)                128       \n",
            "_________________________________________________________________\n",
            "dense_7 (Dense)              (None, 4)                 132       \n",
            "=================================================================\n",
            "Total params: 5,417,348\n",
            "Trainable params: 5,416,900\n",
            "Non-trainable params: 448\n",
            "_________________________________________________________________\n",
            "class weight: {0: 0.8469827586206896, 1: 0.5012755102040817, 2: 1.6794871794871795, 3: 4.366666666666666}\n",
            "WARNING:tensorflow:sample_weight modes were coerced from\n",
            "  ...\n",
            "    to  \n",
            "  ['...']\n",
            "WARNING:tensorflow:sample_weight modes were coerced from\n",
            "  ...\n",
            "    to  \n",
            "  ['...']\n",
            "Train for 25 steps, validate on 139 samples\n",
            "Epoch 1/20\n",
            "25/25 [==============================] - 21s 840ms/step - loss: 1.3992 - accuracy: 0.2710 - val_loss: 1.2602 - val_accuracy: 0.5755\n",
            "Epoch 2/20\n",
            "25/25 [==============================] - 19s 764ms/step - loss: 1.3917 - accuracy: 0.2748 - val_loss: 1.2569 - val_accuracy: 0.5755\n",
            "Epoch 3/20\n",
            "25/25 [==============================] - 19s 765ms/step - loss: 1.3923 - accuracy: 0.2799 - val_loss: 1.2447 - val_accuracy: 0.5755\n",
            "Epoch 4/20\n",
            "25/25 [==============================] - 19s 763ms/step - loss: 1.3617 - accuracy: 0.3130 - val_loss: 1.2338 - val_accuracy: 0.5108\n",
            "Epoch 5/20\n",
            "25/25 [==============================] - 19s 762ms/step - loss: 1.3511 - accuracy: 0.3232 - val_loss: 1.2506 - val_accuracy: 0.3453\n",
            "Epoch 6/20\n",
            "25/25 [==============================] - 19s 751ms/step - loss: 1.3711 - accuracy: 0.3130 - val_loss: 1.2795 - val_accuracy: 0.3741\n",
            "Epoch 7/20\n",
            "25/25 [==============================] - 19s 753ms/step - loss: 1.3545 - accuracy: 0.3397 - val_loss: 1.2289 - val_accuracy: 0.3597\n",
            "Epoch 8/20\n",
            "25/25 [==============================] - 19s 757ms/step - loss: 1.3465 - accuracy: 0.3664 - val_loss: 1.2710 - val_accuracy: 0.2806\n",
            "Epoch 9/20\n",
            "25/25 [==============================] - 19s 754ms/step - loss: 1.3434 - accuracy: 0.3486 - val_loss: 1.3079 - val_accuracy: 0.1079\n",
            "Epoch 10/20\n",
            "25/25 [==============================] - 19s 758ms/step - loss: 1.3470 - accuracy: 0.3359 - val_loss: 1.3182 - val_accuracy: 0.2230\n",
            "Epoch 11/20\n",
            "25/25 [==============================] - 19s 761ms/step - loss: 1.3313 - accuracy: 0.3626 - val_loss: 1.2665 - val_accuracy: 0.2734\n",
            "Epoch 12/20\n",
            "25/25 [==============================] - 19s 762ms/step - loss: 1.3345 - accuracy: 0.3639 - val_loss: 1.2584 - val_accuracy: 0.5755\n",
            "Epoch 13/20\n",
            "25/25 [==============================] - 19s 758ms/step - loss: 1.3463 - accuracy: 0.3422 - val_loss: 1.3065 - val_accuracy: 0.2878\n",
            "Epoch 14/20\n",
            "25/25 [==============================] - 19s 750ms/step - loss: 1.3422 - accuracy: 0.3537 - val_loss: 1.2833 - val_accuracy: 0.2662\n",
            "Epoch 15/20\n",
            "25/25 [==============================] - 19s 754ms/step - loss: 1.3282 - accuracy: 0.3537 - val_loss: 1.2081 - val_accuracy: 0.6259\n",
            "Epoch 16/20\n",
            "25/25 [==============================] - 19s 760ms/step - loss: 1.3594 - accuracy: 0.3422 - val_loss: 1.2395 - val_accuracy: 0.5612\n",
            "Epoch 17/20\n",
            "25/25 [==============================] - 19s 759ms/step - loss: 1.3419 - accuracy: 0.3372 - val_loss: 1.2322 - val_accuracy: 0.3381\n",
            "Epoch 18/20\n",
            "25/25 [==============================] - 19s 759ms/step - loss: 1.3313 - accuracy: 0.3601 - val_loss: 1.2647 - val_accuracy: 0.2230\n",
            "Epoch 19/20\n",
            "25/25 [==============================] - 19s 761ms/step - loss: 1.3243 - accuracy: 0.3562 - val_loss: 1.2834 - val_accuracy: 0.2806\n",
            "Epoch 20/20\n",
            "25/25 [==============================] - 19s 756ms/step - loss: 1.3450 - accuracy: 0.3155 - val_loss: 1.2130 - val_accuracy: 0.2878\n",
            "model: ./model/simple_cnn_model.h5 saved.\n"
          ],
          "name": "stdout"
        }
      ]
    },
    {
      "cell_type": "code",
      "metadata": {
        "id": "TRs4Py2-OQAb",
        "colab_type": "code",
        "colab": {
          "base_uri": "https://localhost:8080/",
          "height": 566
        },
        "outputId": "a074d6c6-f2f8-4b9e-b9d1-685d3819855e"
      },
      "source": [
        "acc = history.history['accuracy']\n",
        "val_acc = history.history['val_accuracy']\n",
        "\n",
        "loss=history.history['loss']\n",
        "val_loss=history.history['val_loss']\n",
        "\n",
        "epochs_range = range(len(acc))\n",
        "\n",
        "plt.figure(figsize=(8, 8))\n",
        "plt.subplot(1, 2, 1)\n",
        "plt.plot(epochs_range, acc, label='Training Accuracy')\n",
        "plt.plot(epochs_range, val_acc, label='Validation Accuracy')\n",
        "plt.legend(loc='lower right')\n",
        "plt.title('Training and Validation Accuracy')\n",
        "\n",
        "plt.subplot(1, 2, 2)\n",
        "plt.plot(epochs_range, loss, label='Training Loss')\n",
        "plt.plot(epochs_range, val_loss, label='Validation Loss')\n",
        "plt.legend(loc='upper right')\n",
        "plt.title('Training and Validation Loss')\n",
        "plt.show()"
      ],
      "execution_count": 28,
      "outputs": [
        {
          "output_type": "execute_result",
          "data": {
            "text/plain": [
              "<Figure size 576x576 with 0 Axes>"
            ]
          },
          "metadata": {
            "tags": []
          },
          "execution_count": 28
        },
        {
          "output_type": "execute_result",
          "data": {
            "text/plain": [
              "<matplotlib.axes._subplots.AxesSubplot at 0x7fb7220c6278>"
            ]
          },
          "metadata": {
            "tags": []
          },
          "execution_count": 28
        },
        {
          "output_type": "execute_result",
          "data": {
            "text/plain": [
              "[<matplotlib.lines.Line2D at 0x7fb742dfc940>]"
            ]
          },
          "metadata": {
            "tags": []
          },
          "execution_count": 28
        },
        {
          "output_type": "execute_result",
          "data": {
            "text/plain": [
              "[<matplotlib.lines.Line2D at 0x7fb72314c5f8>]"
            ]
          },
          "metadata": {
            "tags": []
          },
          "execution_count": 28
        },
        {
          "output_type": "execute_result",
          "data": {
            "text/plain": [
              "<matplotlib.legend.Legend at 0x7fb7231619b0>"
            ]
          },
          "metadata": {
            "tags": []
          },
          "execution_count": 28
        },
        {
          "output_type": "execute_result",
          "data": {
            "text/plain": [
              "Text(0.5, 1.0, 'Training and Validation Accuracy')"
            ]
          },
          "metadata": {
            "tags": []
          },
          "execution_count": 28
        },
        {
          "output_type": "execute_result",
          "data": {
            "text/plain": [
              "<matplotlib.axes._subplots.AxesSubplot at 0x7fb723161e80>"
            ]
          },
          "metadata": {
            "tags": []
          },
          "execution_count": 28
        },
        {
          "output_type": "execute_result",
          "data": {
            "text/plain": [
              "[<matplotlib.lines.Line2D at 0x7fb72314c358>]"
            ]
          },
          "metadata": {
            "tags": []
          },
          "execution_count": 28
        },
        {
          "output_type": "execute_result",
          "data": {
            "text/plain": [
              "[<matplotlib.lines.Line2D at 0x7fb723124a90>]"
            ]
          },
          "metadata": {
            "tags": []
          },
          "execution_count": 28
        },
        {
          "output_type": "execute_result",
          "data": {
            "text/plain": [
              "<matplotlib.legend.Legend at 0x7fb723124dd8>"
            ]
          },
          "metadata": {
            "tags": []
          },
          "execution_count": 28
        },
        {
          "output_type": "execute_result",
          "data": {
            "text/plain": [
              "Text(0.5, 1.0, 'Training and Validation Loss')"
            ]
          },
          "metadata": {
            "tags": []
          },
          "execution_count": 28
        },
        {
          "output_type": "display_data",
          "data": {
            "image/png": "[encoded data removed]",
            "text/plain": [
              "<Figure size 576x576 with 2 Axes>"
            ]
          },
          "metadata": {
            "tags": []
          }
        }
      ]
    },
    {
      "cell_type": "markdown",
      "metadata": {
        "id": "nDco2lLYoUDU",
        "colab_type": "text"
      },
      "source": [
        "### transfer Learning\n",
        "\n",
        "In transfer learning, a pre-trained model (DenseNet121, with ImageNet weight) is used as featue extraction layer.Then a few fully-connect layer is used for the classification."
      ]
    },
    {
      "cell_type": "code",
      "metadata": {
        "id": "uJn_tofVoUDV",
        "colab_type": "code",
        "outputId": "40cf93bb-3f29-4b24-cf01-916ed214450d",
        "colab": {
          "base_uri": "https://localhost:8080/",
          "height": 1000
        }
      },
      "source": [
        "base_model = tf.keras.applications.DenseNet121(input_shape=(IMG_HEIGHT, IMG_WIDTH ,3), include_top=False, weights='imagenet')\n",
        "transfer_model = build_transfer_learning_model(base_model) # \n",
        "\n",
        "optimizer = Adam(\n",
        "    learning_rate=0.001, epsilon=1e-07, amsgrad=False,)\n",
        "\n",
        "transfer_model.compile(optimizer=optimizer,\n",
        "              loss=tf.keras.losses.CategoricalCrossentropy(from_logits=True),\n",
        "              metrics=['accuracy'])\n",
        "\n",
        "\n",
        "y_integers = np.argmax(train_Y, axis=1)\n",
        "class_weights = compute_class_weight('balanced', np.unique(y_integers), y_integers)\n",
        "d_class_weights = dict(enumerate(class_weights))\n",
        "\n",
        "print(\"class_weight: \", d_class_weights)\n",
        "\n",
        "\n",
        "history = transfer_model.fit(datagen.flow(train_X, train_Y, batch_size = 32),  \n",
        "                    epochs=50, shuffle = True, \n",
        "                    class_weight = d_class_weights,\n",
        "                    callbacks = [tensorboard_callback], verbose = 1,\n",
        "                    validation_data = (test_X, test_Y)\n",
        "                    )\n",
        "\n",
        "transfer_model.save(os.path.join(MODEL_DIR, \"transfer_learning_model.h5\"))"
      ],
      "execution_count": 33,
      "outputs": [
        {
          "output_type": "stream",
          "text": [
            "Model: \"sequential_3\"\n",
            "_________________________________________________________________\n",
            "Layer (type)                 Output Shape              Param #   \n",
            "=================================================================\n",
            "densenet121 (Model)          (None, 10, 10, 1024)      7037504   \n",
            "_________________________________________________________________\n",
            "flatten_3 (Flatten)          (None, 102400)            0         \n",
            "_________________________________________________________________\n",
            "dense_12 (Dense)             (None, 32)                3276832   \n",
            "_________________________________________________________________\n",
            "batch_normalization_9 (Batch (None, 32)                128       \n",
            "_________________________________________________________________\n",
            "dense_13 (Dense)             (None, 4)                 132       \n",
            "=================================================================\n",
            "Total params: 10,314,596\n",
            "Trainable params: 3,277,028\n",
            "Non-trainable params: 7,037,568\n",
            "_________________________________________________________________\n",
            "class_weight:  {0: 0.8469827586206896, 1: 0.5012755102040817, 2: 1.6794871794871795, 3: 4.366666666666666}\n",
            "WARNING:tensorflow:sample_weight modes were coerced from\n",
            "  ...\n",
            "    to  \n",
            "  ['...']\n",
            "WARNING:tensorflow:sample_weight modes were coerced from\n",
            "  ...\n",
            "    to  \n",
            "  ['...']\n",
            "Train for 25 steps, validate on 139 samples\n",
            "Epoch 1/50\n",
            "25/25 [==============================] - 34s 1s/step - loss: 1.3565 - accuracy: 0.3562 - val_loss: 1.2843 - val_accuracy: 0.2662\n",
            "Epoch 2/50\n",
            "25/25 [==============================] - 26s 1s/step - loss: 1.2938 - accuracy: 0.3830 - val_loss: 1.2465 - val_accuracy: 0.2014\n",
            "Epoch 3/50\n",
            "25/25 [==============================] - 26s 1s/step - loss: 1.2898 - accuracy: 0.4173 - val_loss: 1.2333 - val_accuracy: 0.2590\n",
            "Epoch 4/50\n",
            "25/25 [==============================] - 26s 1s/step - loss: 1.2596 - accuracy: 0.4249 - val_loss: 1.2497 - val_accuracy: 0.2086\n",
            "Epoch 5/50\n",
            "25/25 [==============================] - 27s 1s/step - loss: 1.2110 - accuracy: 0.4860 - val_loss: 1.2446 - val_accuracy: 0.1942\n",
            "Epoch 6/50\n",
            "25/25 [==============================] - 26s 1s/step - loss: 1.2123 - accuracy: 0.4911 - val_loss: 1.2300 - val_accuracy: 0.2014\n",
            "Epoch 7/50\n",
            "25/25 [==============================] - 25s 1s/step - loss: 1.1940 - accuracy: 0.5178 - val_loss: 1.2619 - val_accuracy: 0.1655\n",
            "Epoch 8/50\n",
            "25/25 [==============================] - 25s 1s/step - loss: 1.1909 - accuracy: 0.5089 - val_loss: 1.2847 - val_accuracy: 0.1583\n",
            "Epoch 9/50\n",
            "25/25 [==============================] - 26s 1s/step - loss: 1.1726 - accuracy: 0.5115 - val_loss: 1.2990 - val_accuracy: 0.1367\n",
            "Epoch 10/50\n",
            "25/25 [==============================] - 26s 1s/step - loss: 1.1750 - accuracy: 0.5344 - val_loss: 1.2843 - val_accuracy: 0.1583\n",
            "Epoch 11/50\n",
            "25/25 [==============================] - 25s 1s/step - loss: 1.2030 - accuracy: 0.5064 - val_loss: 1.2600 - val_accuracy: 0.1583\n",
            "Epoch 12/50\n",
            "25/25 [==============================] - 25s 1s/step - loss: 1.1806 - accuracy: 0.5254 - val_loss: 1.2640 - val_accuracy: 0.1439\n",
            "Epoch 13/50\n",
            "25/25 [==============================] - 26s 1s/step - loss: 1.1611 - accuracy: 0.5496 - val_loss: 1.2445 - val_accuracy: 0.1439\n",
            "Epoch 14/50\n",
            "25/25 [==============================] - 25s 990ms/step - loss: 1.1603 - accuracy: 0.5445 - val_loss: 1.2232 - val_accuracy: 0.1871\n",
            "Epoch 15/50\n",
            "25/25 [==============================] - 25s 1s/step - loss: 1.1490 - accuracy: 0.5254 - val_loss: 1.2222 - val_accuracy: 0.1727\n",
            "Epoch 16/50\n",
            "25/25 [==============================] - 26s 1s/step - loss: 1.1503 - accuracy: 0.5331 - val_loss: 1.2142 - val_accuracy: 0.2806\n",
            "Epoch 17/50\n",
            "25/25 [==============================] - 25s 1s/step - loss: 1.1478 - accuracy: 0.5534 - val_loss: 1.2212 - val_accuracy: 0.2518\n",
            "Epoch 18/50\n",
            "25/25 [==============================] - 25s 1s/step - loss: 1.1354 - accuracy: 0.5433 - val_loss: 1.2183 - val_accuracy: 0.2662\n",
            "Epoch 19/50\n",
            "25/25 [==============================] - 25s 1s/step - loss: 1.1161 - accuracy: 0.5725 - val_loss: 1.2147 - val_accuracy: 0.3381\n",
            "Epoch 20/50\n",
            "25/25 [==============================] - 26s 1s/step - loss: 1.1324 - accuracy: 0.5522 - val_loss: 1.2046 - val_accuracy: 0.3237\n",
            "Epoch 21/50\n",
            "25/25 [==============================] - 25s 992ms/step - loss: 1.1292 - accuracy: 0.5662 - val_loss: 1.2081 - val_accuracy: 0.3022\n",
            "Epoch 22/50\n",
            "25/25 [==============================] - 25s 1s/step - loss: 1.1343 - accuracy: 0.5573 - val_loss: 1.2293 - val_accuracy: 0.2374\n",
            "Epoch 23/50\n",
            "25/25 [==============================] - 26s 1s/step - loss: 1.1277 - accuracy: 0.5636 - val_loss: 1.2087 - val_accuracy: 0.2518\n",
            "Epoch 24/50\n",
            "25/25 [==============================] - 25s 1s/step - loss: 1.1242 - accuracy: 0.5738 - val_loss: 1.2036 - val_accuracy: 0.2662\n",
            "Epoch 25/50\n",
            "25/25 [==============================] - 26s 1s/step - loss: 1.1337 - accuracy: 0.5725 - val_loss: 1.1793 - val_accuracy: 0.4029\n",
            "Epoch 26/50\n",
            "25/25 [==============================] - 25s 1s/step - loss: 1.1074 - accuracy: 0.5802 - val_loss: 1.1944 - val_accuracy: 0.3813\n",
            "Epoch 27/50\n",
            "25/25 [==============================] - 25s 1s/step - loss: 1.1146 - accuracy: 0.5814 - val_loss: 1.1765 - val_accuracy: 0.5252\n",
            "Epoch 28/50\n",
            "25/25 [==============================] - 26s 1s/step - loss: 1.1105 - accuracy: 0.5789 - val_loss: 1.1666 - val_accuracy: 0.4460\n",
            "Epoch 29/50\n",
            "25/25 [==============================] - 25s 1s/step - loss: 1.1301 - accuracy: 0.5623 - val_loss: 1.1639 - val_accuracy: 0.4604\n",
            "Epoch 30/50\n",
            "25/25 [==============================] - 25s 999ms/step - loss: 1.1024 - accuracy: 0.6069 - val_loss: 1.1557 - val_accuracy: 0.5180\n",
            "Epoch 31/50\n",
            "25/25 [==============================] - 25s 991ms/step - loss: 1.1103 - accuracy: 0.5840 - val_loss: 1.2066 - val_accuracy: 0.3165\n",
            "Epoch 32/50\n",
            "25/25 [==============================] - 25s 1s/step - loss: 1.1019 - accuracy: 0.5725 - val_loss: 1.2087 - val_accuracy: 0.2374\n",
            "Epoch 33/50\n",
            "25/25 [==============================] - 26s 1s/step - loss: 1.1236 - accuracy: 0.5700 - val_loss: 1.2302 - val_accuracy: 0.1942\n",
            "Epoch 34/50\n",
            "25/25 [==============================] - 25s 1s/step - loss: 1.0844 - accuracy: 0.5878 - val_loss: 1.2396 - val_accuracy: 0.1871\n",
            "Epoch 35/50\n",
            "25/25 [==============================] - 25s 1s/step - loss: 1.0888 - accuracy: 0.5763 - val_loss: 1.1957 - val_accuracy: 0.2734\n",
            "Epoch 36/50\n",
            "25/25 [==============================] - 25s 994ms/step - loss: 1.1007 - accuracy: 0.5636 - val_loss: 1.1731 - val_accuracy: 0.4173\n",
            "Epoch 37/50\n",
            "25/25 [==============================] - 25s 1s/step - loss: 1.0913 - accuracy: 0.5725 - val_loss: 1.1887 - val_accuracy: 0.3669\n",
            "Epoch 38/50\n",
            "25/25 [==============================] - 25s 994ms/step - loss: 1.0572 - accuracy: 0.6145 - val_loss: 1.1780 - val_accuracy: 0.3741\n",
            "Epoch 39/50\n",
            "25/25 [==============================] - 25s 990ms/step - loss: 1.0745 - accuracy: 0.5992 - val_loss: 1.1993 - val_accuracy: 0.3022\n",
            "Epoch 40/50\n",
            "25/25 [==============================] - 25s 1s/step - loss: 1.0856 - accuracy: 0.5852 - val_loss: 1.1806 - val_accuracy: 0.3453\n",
            "Epoch 41/50\n",
            "25/25 [==============================] - 25s 1s/step - loss: 1.0731 - accuracy: 0.6069 - val_loss: 1.1972 - val_accuracy: 0.3453\n",
            "Epoch 42/50\n",
            "25/25 [==============================] - 25s 1s/step - loss: 1.0857 - accuracy: 0.5967 - val_loss: 1.1867 - val_accuracy: 0.3525\n",
            "Epoch 43/50\n",
            "25/25 [==============================] - 25s 1s/step - loss: 1.1012 - accuracy: 0.5891 - val_loss: 1.1778 - val_accuracy: 0.3741\n",
            "Epoch 44/50\n",
            "25/25 [==============================] - 25s 1s/step - loss: 1.0848 - accuracy: 0.6056 - val_loss: 1.1997 - val_accuracy: 0.3813\n",
            "Epoch 45/50\n",
            "25/25 [==============================] - 25s 1s/step - loss: 1.1083 - accuracy: 0.5814 - val_loss: 1.2252 - val_accuracy: 0.2806\n",
            "Epoch 46/50\n",
            "25/25 [==============================] - 25s 1s/step - loss: 1.0792 - accuracy: 0.5992 - val_loss: 1.2219 - val_accuracy: 0.3741\n",
            "Epoch 47/50\n",
            "25/25 [==============================] - 24s 973ms/step - loss: 1.0914 - accuracy: 0.5954 - val_loss: 1.2247 - val_accuracy: 0.2734\n",
            "Epoch 48/50\n",
            "25/25 [==============================] - 25s 1s/step - loss: 1.0922 - accuracy: 0.5916 - val_loss: 1.2225 - val_accuracy: 0.3094\n",
            "Epoch 49/50\n",
            "25/25 [==============================] - 24s 978ms/step - loss: 1.0833 - accuracy: 0.5941 - val_loss: 1.2208 - val_accuracy: 0.2806\n",
            "Epoch 50/50\n",
            "25/25 [==============================] - 25s 1s/step - loss: 1.0701 - accuracy: 0.5891 - val_loss: 1.2195 - val_accuracy: 0.2950\n"
          ],
          "name": "stdout"
        }
      ]
    },
    {
      "cell_type": "code",
      "metadata": {
        "id": "l014spQ6QZjV",
        "colab_type": "code",
        "colab": {
          "base_uri": "https://localhost:8080/",
          "height": 566
        },
        "outputId": "8a468426-a8a8-4c32-fed0-ef02515b5a92"
      },
      "source": [
        "acc = history.history['accuracy']\n",
        "val_acc = history.history['val_accuracy']\n",
        "\n",
        "loss=history.history['loss']\n",
        "val_loss=history.history['val_loss']\n",
        "\n",
        "epochs_range = range(len(acc))\n",
        "\n",
        "plt.figure(figsize=(8, 8))\n",
        "plt.subplot(1, 2, 1)\n",
        "plt.plot(epochs_range, acc, label='Training Accuracy')\n",
        "plt.plot(epochs_range, val_acc, label='Validation Accuracy')\n",
        "plt.legend(loc='lower right')\n",
        "plt.title('Training and Validation Accuracy')\n",
        "\n",
        "plt.subplot(1, 2, 2)\n",
        "plt.plot(epochs_range, loss, label='Training Loss')\n",
        "plt.plot(epochs_range, val_loss, label='Validation Loss')\n",
        "plt.legend(loc='upper right')\n",
        "plt.title('Training and Validation Loss')\n",
        "plt.show()"
      ],
      "execution_count": 34,
      "outputs": [
        {
          "output_type": "execute_result",
          "data": {
            "text/plain": [
              "<Figure size 576x576 with 0 Axes>"
            ]
          },
          "metadata": {
            "tags": []
          },
          "execution_count": 34
        },
        {
          "output_type": "execute_result",
          "data": {
            "text/plain": [
              "<matplotlib.axes._subplots.AxesSubplot at 0x7fb7182147b8>"
            ]
          },
          "metadata": {
            "tags": []
          },
          "execution_count": 34
        },
        {
          "output_type": "execute_result",
          "data": {
            "text/plain": [
              "[<matplotlib.lines.Line2D at 0x7fb7220a51d0>]"
            ]
          },
          "metadata": {
            "tags": []
          },
          "execution_count": 34
        },
        {
          "output_type": "execute_result",
          "data": {
            "text/plain": [
              "[<matplotlib.lines.Line2D at 0x7fb720ee8630>]"
            ]
          },
          "metadata": {
            "tags": []
          },
          "execution_count": 34
        },
        {
          "output_type": "execute_result",
          "data": {
            "text/plain": [
              "<matplotlib.legend.Legend at 0x7fb720ee89e8>"
            ]
          },
          "metadata": {
            "tags": []
          },
          "execution_count": 34
        },
        {
          "output_type": "execute_result",
          "data": {
            "text/plain": [
              "Text(0.5, 1.0, 'Training and Validation Accuracy')"
            ]
          },
          "metadata": {
            "tags": []
          },
          "execution_count": 34
        },
        {
          "output_type": "execute_result",
          "data": {
            "text/plain": [
              "<matplotlib.axes._subplots.AxesSubplot at 0x7fb720ee89b0>"
            ]
          },
          "metadata": {
            "tags": []
          },
          "execution_count": 34
        },
        {
          "output_type": "execute_result",
          "data": {
            "text/plain": [
              "[<matplotlib.lines.Line2D at 0x7fb7161c6240>]"
            ]
          },
          "metadata": {
            "tags": []
          },
          "execution_count": 34
        },
        {
          "output_type": "execute_result",
          "data": {
            "text/plain": [
              "[<matplotlib.lines.Line2D at 0x7fb720fcb7f0>]"
            ]
          },
          "metadata": {
            "tags": []
          },
          "execution_count": 34
        },
        {
          "output_type": "execute_result",
          "data": {
            "text/plain": [
              "<matplotlib.legend.Legend at 0x7fb720fcb940>"
            ]
          },
          "metadata": {
            "tags": []
          },
          "execution_count": 34
        },
        {
          "output_type": "execute_result",
          "data": {
            "text/plain": [
              "Text(0.5, 1.0, 'Training and Validation Loss')"
            ]
          },
          "metadata": {
            "tags": []
          },
          "execution_count": 34
        },
        {
          "output_type": "display_data",
          "data": {
            "image/png": "[encoded data removed]",
            "text/plain": [
              "<Figure size 576x576 with 2 Axes>"
            ]
          },
          "metadata": {
            "tags": []
          }
        }
      ]
    },
    {
      "cell_type": "markdown",
      "metadata": {
        "id": "QspgKswiQgrU",
        "colab_type": "text"
      },
      "source": [
        "We can found the model did not converge very well and still have room to improve. The transfer learning model performed better in terms of the validation loss. \n",
        "\n",
        "For now we will do the prediction with the transfer model we trained."
      ]
    },
    {
      "cell_type": "markdown",
      "metadata": {
        "id": "v1rMpARBVAEY",
        "colab_type": "text"
      },
      "source": [
        "## do prediction\n",
        "\n",
        "create a help function to covert output softmax vector to the single digit label."
      ]
    },
    {
      "cell_type": "code",
      "metadata": {
        "id": "BDaKGxdYoUDY",
        "colab_type": "code",
        "colab": {}
      },
      "source": [
        "def predict(model, image_path):\n",
        "    image = preprocess_image(image_path)\n",
        "    prediction =  model.predict(np.asarray([image]))\n",
        "    #print(prediction)\n",
        "    result = np.argmax(prediction) + 1\n",
        "    #print(prediction, result)\n",
        "    return result\n",
        "\n",
        "\n"
      ],
      "execution_count": 0,
      "outputs": []
    },
    {
      "cell_type": "markdown",
      "metadata": {
        "id": "KtkN9LnbVU5H",
        "colab_type": "text"
      },
      "source": [
        "## Create final submission\n",
        "\n",
        "To create the final submission of this contest, it should be noticed that each **id** may have more than images, and the predicted label from differnet images may be different, while the final label should be an unique one. To handle this, the voting method is used. The final label will be the label that most images under that **id** predicted.    "
      ]
    },
    {
      "cell_type": "code",
      "metadata": {
        "id": "YMAVg4s9oUDb",
        "colab_type": "code",
        "outputId": "38589451-4b4c-465b-e3d8-1f237ef2a402",
        "colab": {
          "base_uri": "https://localhost:8080/",
          "height": 34
        }
      },
      "source": [
        "def create_result(model, csv_path, image_dir):\n",
        "    test_df = pd.read_csv(csv_path)\n",
        "    test_image_id = list(test_df[\"id\"])\n",
        "    #print(test_image_id)\n",
        "    f = open(RESULT_FILE, \"w\")\n",
        "    for idx in test_image_id:\n",
        "        test_image_file_path = glob.glob(os.path.join(image_dir, idx, \"*.*\"))\n",
        "        #print(test_image_file_path)\n",
        "        result = []\n",
        "        \n",
        "        for p in test_image_file_path:\n",
        "            result.append(predict(model, p))\n",
        "        \n",
        "        #print(result)\n",
        "        result = np.asarray(result)\n",
        "        if result.shape[0] != 0:\n",
        "            counts = np.bincount(result)\n",
        "            final = np.argmax(counts)\n",
        "            #print(f\"{idx}, {result}, {final}\")\n",
        "        else:\n",
        "            print(f\"{idx} has no image attached, the final label will set to -1\")\n",
        "            final = -1\n",
        "        \n",
        "        f.write(f\"{idx},{final}\\n\")\n",
        "    \n",
        "    f.close()\n",
        "    print(f\"the final submission result is saved to {RESULT_FILE}.\")\n",
        "\n",
        "    \n",
        "create_result(transfer_model, TEST_CSV, TEST_IMG_DIR)\n",
        "    "
      ],
      "execution_count": 41,
      "outputs": [
        {
          "output_type": "stream",
          "text": [
            "the final submission result is saved to ./submission.csv.\n"
          ],
          "name": "stdout"
        }
      ]
    },
    {
      "cell_type": "markdown",
      "metadata": {
        "id": "6oDav8ExV-FS",
        "colab_type": "text"
      },
      "source": [
        "## Summary\n",
        "\n",
        "In this project CNN model is used to predcit breast cancer situation  from the ultrasonic image. Two methods: *simple CNN model, training from scratch*, and *transfer learning* is used.The final result is not very good due to a few possible issues: \n",
        "\n",
        "+ the network structure didn't optimized. \n",
        "+ the image preprocessing is not enough. In this project we only did simple resizing and normalization. More can be done to improve the feed-in image quality, such as to removed the blak margin for each image, which didn't provide much information.\n",
        "+ other non-image properties (**age**, **P53**, **HER2**) were not used, which may also provide usefull information.This is addressed in the below TBD part.   "
      ]
    },
    {
      "cell_type": "markdown",
      "metadata": {
        "id": "UoiDi01hVqlD",
        "colab_type": "text"
      },
      "source": [
        "## TBD (not finished):"
      ]
    },
    {
      "cell_type": "markdown",
      "metadata": {
        "id": "7tU8u4U4N5Se",
        "colab_type": "text"
      },
      "source": [
        "### mixed model"
      ]
    },
    {
      "cell_type": "markdown",
      "metadata": {
        "id": "I_GdzyiJOZUB",
        "colab_type": "text"
      },
      "source": [
        "data preparation"
      ]
    },
    {
      "cell_type": "code",
      "metadata": {
        "id": "B6N2UZsgN8ta",
        "colab_type": "code",
        "outputId": "b168f354-1e5f-413e-88fa-77d836f4223c",
        "colab": {
          "base_uri": "https://localhost:8080/",
          "height": 70
        }
      },
      "source": [
        "def preprocess_image(image_path):\n",
        "    \n",
        "    image = cv2.imread(image_path, cv2.IMREAD_GRAYSCALE)\n",
        "    image = cv2.resize(image, (IMG_HEIGHT, IMG_WIDTH))\n",
        "    image = cv2.cvtColor(image, cv2.COLOR_GRAY2RGB)\n",
        "    image = cv2.normalize(image, None, alpha=0, beta=1, norm_type=cv2.NORM_MINMAX, dtype=cv2.CV_32F)\n",
        "    image = np.asarray(image)\n",
        "\n",
        "    return image\n",
        "\n",
        "train_Y = train_onehot_label\n",
        "train_X = []\n",
        "train_image = []\n",
        "train_age = []\n",
        "train_her2 = []\n",
        "train_p53 = []\n",
        "for image_path, normalized_age, her2_v, p53_v in zip(train_image_path, normalized_age_list, her2_onehot, p53_onehot):\n",
        "    train_X.append([\n",
        "                    preprocess_image(image_path),\n",
        "                    float(normalized_age),\n",
        "                    her2_v,\n",
        "                    p53_v\n",
        "\n",
        "    ])\n",
        "    train_image.append(preprocess_image(image_path))\n",
        "    train_age.append(np.asarray(float(normalized_age)))\n",
        "    train_her2.append(np.asarray(her2_v))\n",
        "    train_p53.append(np.asarray(p53_v))\n",
        "\n",
        "\n",
        "train_image = np.asarray(train_image)\n",
        "train_age = np.asarray(train_age)\n",
        "train_her2 = np.asarray(train_her2)\n",
        "train_p53 = np.asarray(train_p53)\n",
        "\n",
        "print(train_image.shape, train_age.shape, train_her2.shape, train_p53.shape)\n",
        "\n",
        "#train_X, test_X, train_Y, test_Y = train_test_split(train_X, train_Y, test_size=0.15, random_state=42)\n",
        "\n",
        "\n",
        "\n",
        "print(f\"\\ntrain X shape:{len(train_X)}, train Y shape: {train_Y.shape}, tes X shape:{len(test_X)}, test Y shape: {test_Y.shape}\")\n",
        "\n",
        "#[print(j) for i, j in zip(train_X, train_Y)]\n"
      ],
      "execution_count": 0,
      "outputs": [
        {
          "output_type": "stream",
          "text": [
            "(925, 320, 320, 3) (925,) (925, 4) (925, 2)\n",
            "\n",
            "train X shape:925, train Y shape: (925, 4), tes X shape:139, test Y shape: (139, 4)\n"
          ],
          "name": "stdout"
        }
      ]
    },
    {
      "cell_type": "code",
      "metadata": {
        "id": "PVWbO0zbOWkN",
        "colab_type": "code",
        "outputId": "b04a4a2b-a2d2-40c2-f05b-6ce46b42dd41",
        "colab": {
          "base_uri": "https://localhost:8080/",
          "height": 668
        }
      },
      "source": [
        "def build_mixed_model():\n",
        "    image_input = Input(shape=(IMG_HEIGHT, IMG_WIDTH ,3))\n",
        "    age_input = Input(shape=(1,))\n",
        "    her2_input = Input(shape=(4,))\n",
        "    p53_input = Input(shape=(2,))\n",
        "\n",
        "    image_output = Conv2D(32, 3, padding='valid', activation='relu')(image_input)\n",
        "    image_output = MaxPooling2D()(image_output)\n",
        "    image_output = Conv2D(64, 3, padding='valid', activation='relu')(image_output)\n",
        "    image_output = MaxPooling2D()(image_output)\n",
        "    image_output = Flatten()(image_output)\n",
        "    image_output = Dense(32)(image_output)\n",
        "    \n",
        "    image_output = Dense(16)(image_output)\n",
        "    image_model = Model(inputs=image_input, outputs=image_output)\n",
        "\n",
        "    combined = concatenate([image_model.output, age_input, her2_input, p53_input])\n",
        "   \n",
        "    final_output = Dense(4, activation='softmax')(combined)\n",
        "    \n",
        "    model = Model(inputs=[image_model.input, age_input, her2_input, p53_input], outputs=final_output)\n",
        "    \n",
        "    model.summary()\n",
        "\n",
        "    return model\n",
        "    \n",
        "a = build_mixed_model()"
      ],
      "execution_count": 0,
      "outputs": [
        {
          "output_type": "stream",
          "text": [
            "Model: \"model_38\"\n",
            "__________________________________________________________________________________________________\n",
            "Layer (type)                    Output Shape         Param #     Connected to                     \n",
            "==================================================================================================\n",
            "input_77 (InputLayer)           [(None, 320, 320, 3) 0                                            \n",
            "__________________________________________________________________________________________________\n",
            "conv2d_38 (Conv2D)              (None, 318, 318, 32) 896         input_77[0][0]                   \n",
            "__________________________________________________________________________________________________\n",
            "max_pooling2d_38 (MaxPooling2D) (None, 159, 159, 32) 0           conv2d_38[0][0]                  \n",
            "__________________________________________________________________________________________________\n",
            "conv2d_39 (Conv2D)              (None, 157, 157, 64) 18496       max_pooling2d_38[0][0]           \n",
            "__________________________________________________________________________________________________\n",
            "max_pooling2d_39 (MaxPooling2D) (None, 78, 78, 64)   0           conv2d_39[0][0]                  \n",
            "__________________________________________________________________________________________________\n",
            "flatten_19 (Flatten)            (None, 389376)       0           max_pooling2d_39[0][0]           \n",
            "__________________________________________________________________________________________________\n",
            "dense_56 (Dense)                (None, 32)           12460064    flatten_19[0][0]                 \n",
            "__________________________________________________________________________________________________\n",
            "dense_57 (Dense)                (None, 16)           528         dense_56[0][0]                   \n",
            "__________________________________________________________________________________________________\n",
            "input_78 (InputLayer)           [(None, 1)]          0                                            \n",
            "__________________________________________________________________________________________________\n",
            "input_79 (InputLayer)           [(None, 4)]          0                                            \n",
            "__________________________________________________________________________________________________\n",
            "input_80 (InputLayer)           [(None, 2)]          0                                            \n",
            "__________________________________________________________________________________________________\n",
            "concatenate_14 (Concatenate)    (None, 23)           0           dense_57[0][0]                   \n",
            "                                                                 input_78[0][0]                   \n",
            "                                                                 input_79[0][0]                   \n",
            "                                                                 input_80[0][0]                   \n",
            "__________________________________________________________________________________________________\n",
            "dense_58 (Dense)                (None, 4)            96          concatenate_14[0][0]             \n",
            "==================================================================================================\n",
            "Total params: 12,480,080\n",
            "Trainable params: 12,480,080\n",
            "Non-trainable params: 0\n",
            "__________________________________________________________________________________________________\n"
          ],
          "name": "stdout"
        }
      ]
    },
    {
      "cell_type": "markdown",
      "metadata": {
        "id": "Gowx-e2GVnvO",
        "colab_type": "text"
      },
      "source": [
        "### mixed model training"
      ]
    },
    {
      "cell_type": "code",
      "metadata": {
        "id": "tYTfhTRSVmeg",
        "colab_type": "code",
        "outputId": "b9cc3a05-d864-47a3-b3c1-d616ff051288",
        "colab": {
          "base_uri": "https://localhost:8080/",
          "height": 1000
        }
      },
      "source": [
        "model =  build_mixed_model() #build_transfer_learning_model() # #\n",
        "\n",
        "optimizer = Adam(\n",
        "    learning_rate=0.001, epsilon=1e-07, amsgrad=False,)\n",
        "\n",
        "model.compile(optimizer=optimizer,\n",
        "              loss=tf.keras.losses.CategoricalCrossentropy(from_logits=True),\n",
        "              metrics=['accuracy'])\n",
        "\n",
        "\n",
        "y_integers = np.argmax(train_Y, axis=1)\n",
        "class_weights = compute_class_weight('balanced', np.unique(y_integers), y_integers)\n",
        "d_class_weights = dict(enumerate(class_weights))\n",
        "\n",
        "print(\"class_weight: \", d_class_weights)\n",
        "\n",
        "\n",
        "history = model.fit([train_image, train_age, train_her2, train_p53],  train_Y, batch_size = 32,  \n",
        "                    epochs=10, shuffle = True, \n",
        "                    class_weight = d_class_weights,\n",
        "                    callbacks = [tensorboard_callback], verbose = 1,\n",
        "                    \n",
        "                    )\n",
        "                   \n",
        "\n",
        "model_file = os.path.join(MODEL_PATH, \"mixed_cnn_model.h5\")\n",
        "model.save(model_file)\n",
        "print(f\"model: {model_file} saved.\")"
      ],
      "execution_count": 0,
      "outputs": [
        {
          "output_type": "stream",
          "text": [
            "Model: \"model_40\"\n",
            "__________________________________________________________________________________________________\n",
            "Layer (type)                    Output Shape         Param #     Connected to                     \n",
            "==================================================================================================\n",
            "input_81 (InputLayer)           [(None, 320, 320, 3) 0                                            \n",
            "__________________________________________________________________________________________________\n",
            "conv2d_40 (Conv2D)              (None, 318, 318, 32) 896         input_81[0][0]                   \n",
            "__________________________________________________________________________________________________\n",
            "max_pooling2d_40 (MaxPooling2D) (None, 159, 159, 32) 0           conv2d_40[0][0]                  \n",
            "__________________________________________________________________________________________________\n",
            "conv2d_41 (Conv2D)              (None, 157, 157, 64) 18496       max_pooling2d_40[0][0]           \n",
            "__________________________________________________________________________________________________\n",
            "max_pooling2d_41 (MaxPooling2D) (None, 78, 78, 64)   0           conv2d_41[0][0]                  \n",
            "__________________________________________________________________________________________________\n",
            "flatten_20 (Flatten)            (None, 389376)       0           max_pooling2d_41[0][0]           \n",
            "__________________________________________________________________________________________________\n",
            "dense_59 (Dense)                (None, 32)           12460064    flatten_20[0][0]                 \n",
            "__________________________________________________________________________________________________\n",
            "dense_60 (Dense)                (None, 16)           528         dense_59[0][0]                   \n",
            "__________________________________________________________________________________________________\n",
            "input_82 (InputLayer)           [(None, 1)]          0                                            \n",
            "__________________________________________________________________________________________________\n",
            "input_83 (InputLayer)           [(None, 4)]          0                                            \n",
            "__________________________________________________________________________________________________\n",
            "input_84 (InputLayer)           [(None, 2)]          0                                            \n",
            "__________________________________________________________________________________________________\n",
            "concatenate_15 (Concatenate)    (None, 23)           0           dense_60[0][0]                   \n",
            "                                                                 input_82[0][0]                   \n",
            "                                                                 input_83[0][0]                   \n",
            "                                                                 input_84[0][0]                   \n",
            "__________________________________________________________________________________________________\n",
            "dense_61 (Dense)                (None, 4)            96          concatenate_15[0][0]             \n",
            "==================================================================================================\n",
            "Total params: 12,480,080\n",
            "Trainable params: 12,480,080\n",
            "Non-trainable params: 0\n",
            "__________________________________________________________________________________________________\n",
            "class_weight:  {0: 0.8661048689138576, 1: 0.4899364406779661, 2: 1.7003676470588236, 3: 4.625}\n",
            "WARNING:tensorflow:sample_weight modes were coerced from\n",
            "  ...\n",
            "    to  \n",
            "  ['...']\n",
            "Train on 925 samples\n",
            "Epoch 1/10\n",
            "925/925 [==============================] - 5s 6ms/sample - loss: 1.4412 - accuracy: 0.1600\n",
            "Epoch 2/10\n",
            "925/925 [==============================] - 5s 5ms/sample - loss: 1.4764 - accuracy: 0.0800\n",
            "Epoch 3/10\n",
            "925/925 [==============================] - 5s 5ms/sample - loss: 1.4937 - accuracy: 0.0541\n",
            "Epoch 4/10\n",
            "925/925 [==============================] - 5s 5ms/sample - loss: 1.4937 - accuracy: 0.0541\n",
            "Epoch 5/10\n",
            "925/925 [==============================] - 5s 5ms/sample - loss: 1.4937 - accuracy: 0.0541\n",
            "Epoch 6/10\n",
            "925/925 [==============================] - 5s 5ms/sample - loss: 1.4937 - accuracy: 0.0541\n",
            "Epoch 7/10\n",
            "925/925 [==============================] - 5s 5ms/sample - loss: 1.4937 - accuracy: 0.0541\n",
            "Epoch 8/10\n",
            "925/925 [==============================] - 5s 5ms/sample - loss: 1.4937 - accuracy: 0.0541\n",
            "Epoch 9/10\n",
            "925/925 [==============================] - 5s 5ms/sample - loss: 1.4937 - accuracy: 0.0541\n",
            "Epoch 10/10\n",
            "925/925 [==============================] - 5s 5ms/sample - loss: 1.4937 - accuracy: 0.0541\n",
            "model: ./mixed_cnn_model.h5 saved.\n"
          ],
          "name": "stdout"
        }
      ]
    },
    {
      "cell_type": "markdown",
      "metadata": {
        "id": "2loA24diOCKp",
        "colab_type": "text"
      },
      "source": [
        ""
      ]
    },
    {
      "cell_type": "markdown",
      "metadata": {
        "id": "4l4YhsrJOCTi",
        "colab_type": "text"
      },
      "source": [
        ""
      ]
    },
    {
      "cell_type": "markdown",
      "metadata": {
        "id": "XjzhQuBzoUDb",
        "colab_type": "text"
      },
      "source": [
        "## create final result"
      ]
    },
    {
      "cell_type": "code",
      "metadata": {
        "id": "XJyaemWroUDd",
        "colab_type": "code",
        "colab": {}
      },
      "source": [
        ""
      ],
      "execution_count": 0,
      "outputs": []
    }
  ]
}